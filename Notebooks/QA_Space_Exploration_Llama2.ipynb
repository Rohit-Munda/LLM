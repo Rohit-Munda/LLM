{
 "cells": [
  {
   "cell_type": "markdown",
   "id": "3fb910b5",
   "metadata": {},
   "source": [
    "# Mini Question Answering System with Llama2"
   ]
  },
  {
   "cell_type": "markdown",
   "id": "b0240016",
   "metadata": {},
   "source": [
    "This notebook uses Llama 2.0 model to develop a Question Answering system based on a wikepedia article on Space Exploration."
   ]
  },
  {
   "cell_type": "code",
   "execution_count": 1,
   "id": "8ebd5451",
   "metadata": {},
   "outputs": [],
   "source": [
    "#Import Libraries\n",
    "import re\n",
    "import string\n",
    "import nltk\n",
    "import torch\n",
    "import transformers\n",
    "import warnings \n",
    "\n",
    "from time import time\n",
    "from urllib.request import urlopen\n",
    "from bs4 import BeautifulSoup\n",
    "from math import ceil\n",
    "from wordcloud import WordCloud, STOPWORDS\n",
    "from nltk.stem import WordNetLemmatizer, PorterStemmer\n",
    "from nltk.corpus import stopwords, wordnet as wn\n",
    "from nltk import ngrams, FreqDist, word_tokenize, pos_tag\n",
    "\n",
    "from qdrant_client import QdrantClient\n",
    "from transformers import pipeline, AutoTokenizer, AutoModelForSeq2SeqLM,T5Tokenizer, T5ForConditionalGeneration\n",
    "from torch import cuda, bfloat16\n",
    "from langchain import PromptTemplate, HuggingFaceHub, LLMChain\n",
    "from langchain_community.vectorstores.qdrant import Qdrant\n",
    "from langchain_community.embeddings.huggingface import HuggingFaceBgeEmbeddings\n",
    "from langchain_community.vectorstores.qdrant import Qdrant\n",
    "from langchain.text_splitter import RecursiveCharacterTextSplitter\n",
    "from langchain.chains import RetrievalQA\n",
    "from langchain.llms import HuggingFacePipeline"
   ]
  },
  {
   "cell_type": "code",
   "execution_count": 2,
   "id": "a1b27ef2",
   "metadata": {},
   "outputs": [],
   "source": [
    "warnings.filterwarnings('ignore')"
   ]
  },
  {
   "cell_type": "code",
   "execution_count": 3,
   "id": "a014bb04",
   "metadata": {},
   "outputs": [
    {
     "name": "stderr",
     "output_type": "stream",
     "text": [
      "[nltk_data] Downloading package stopwords to\n",
      "[nltk_data]     C:\\Users\\rmunda\\AppData\\Roaming\\nltk_data...\n",
      "[nltk_data]   Package stopwords is already up-to-date!\n",
      "[nltk_data] Downloading package wordnet to\n",
      "[nltk_data]     C:\\Users\\rmunda\\AppData\\Roaming\\nltk_data...\n",
      "[nltk_data]   Package wordnet is already up-to-date!\n",
      "[nltk_data] Downloading package averaged_perceptron_tagger to\n",
      "[nltk_data]     C:\\Users\\rmunda\\AppData\\Roaming\\nltk_data...\n",
      "[nltk_data]   Package averaged_perceptron_tagger is already up-to-\n",
      "[nltk_data]       date!\n"
     ]
    },
    {
     "data": {
      "text/plain": [
       "True"
      ]
     },
     "execution_count": 3,
     "metadata": {},
     "output_type": "execute_result"
    }
   ],
   "source": [
    "#Download nltk packages for data cleaning\n",
    "nltk.download('stopwords')\n",
    "nltk.download('wordnet')\n",
    "nltk.download('averaged_perceptron_tagger')"
   ]
  },
  {
   "cell_type": "code",
   "execution_count": 4,
   "id": "30292b86",
   "metadata": {},
   "outputs": [],
   "source": [
    "#Class for web scraping\n",
    "class WebScrap:\n",
    "    def __init__(self, url):\n",
    "        self.url = url\n",
    "    \n",
    "    def get_web_data(self):\n",
    "        \"\"\"\n",
    "        This function extracts text from the provided web page url\n",
    "        \"\"\"\n",
    "        source = urlopen(self.url).read()\n",
    "        soup = BeautifulSoup(source, \"html.parser\")\n",
    "        paras = []\n",
    "        heads = []\n",
    "        # Extract the plain text content from paragraphs\n",
    "        for paragraph in soup.find_all('p'):\n",
    "            paras.append(str(paragraph.text))\n",
    "        # Extract text from paragraph headers\n",
    "        for head in soup.find_all('span', attrs={'mw-headline'}):\n",
    "            heads.append(str(head.text))\n",
    "        # Interleave paragraphs & headers\n",
    "        text = [val for pair in zip(paras, heads) for val in pair]\n",
    "        text = ' '.join(text)\n",
    "        # Drop footnote superscripts in brackets\n",
    "        text = re.sub(r\"\\[.*?\\]+\", '', text)\n",
    "        # Replace '\\n' (a new line) with '' and end the string at $1000.\n",
    "        text = text.replace('\\n', '')[:-15]\n",
    "        return text"
   ]
  },
  {
   "cell_type": "code",
   "execution_count": 5,
   "id": "5e5398ac",
   "metadata": {},
   "outputs": [],
   "source": [
    "# Specify url of the wikipedia page\n",
    "url = 'https://en.wikipedia.org/wiki/Space_exploration'\n",
    "web_scrapper = WebScrap(url)\n",
    "text = web_scrapper.get_web_data()"
   ]
  },
  {
   "cell_type": "code",
   "execution_count": 6,
   "id": "edf66a5a",
   "metadata": {},
   "outputs": [
    {
     "data": {
      "text/plain": [
       "' History of exploration Space exploration is the use of astronomy and space technology to explore outer space. While the exploration of space is currently carried out mainly by astronomers with telescopes, its physical exploration is conducted both by uncrewed robotic space probes and human spaceflight. Space exploration, like its classical form astronomy, is one of the main sources for space science. First telescopes While the observation of objects in space, known as astronomy, predates reliable recorded history, it was the development of large and relatively efficient rockets during the mid-twentieth century that allowed physical space exploration to become a reality. Common rationales for exploring space include advancing scientific research, national prestige, uniting different nations, ensuring the future survival of humanity, and developing military and strategic advantages against other countries. First outer space flights The early era of space exploration was driven by a \"Space Race\" between the Soviet Union and the United States. A driving force of the start of space exploration was during the Cold War. After the ability to create nuclear weapons, the narrative of defense/offense left land and the power to control the air became the focus. Both the Soviet and the U.S. were fighting to prove their superiority in technology through exploring the unknown: space. In fact, the reason NASA was made was due to the response of Sputnik I. The launch of the first human-made object to orbit Earth, the Soviet Union\\'s Sputnik 1, on 4 October 1957, and the first Moon landing by the American Apollo 11 mission on 20 July 1969 are often taken as landmarks for this initial period. The Soviet space program achieved many of the first milestones, including the first living being in orbit in 1957, the first human spaceflight (Yuri Gagarin aboard Vostok 1) in 1961, the first spacewalk (by Alexei Leonov) on 18 March 1965, the first automatic landing on another celestial body in 1966, and the launch of the first space station (Salyut 1) in 1971. After the first 20 years of exploration, focus shifted from one-off flights to renewable hardware, such as the Space Shuttle program, and from competition to cooperation as with the International Space Station (ISS). First object in orbit With the substantial completion of the ISS following STS-133 in March 2011, plans for space exploration by the U.S. remain in flux. Constellation, a Bush administration program for a return to the Moon by 2020 was judged inadequately funded and unrealistic by an expert review panel reporting in 2009. The Obama administration proposed a revision of Constellation in 2010 to focus on the development of the capability for crewed missions beyond low Earth orbit (LEO), envisioning extending the operation of the ISS beyond 2020, transferring the development of launch vehicles for human crews from NASA to the private sector, and developing technology to enable missions to beyond LEO, such as Earth–Moon L1, the Moon, Earth–Sun L2, near-Earth asteroids, and Phobos or Mars orbit. First human outer space flight In the 2000s, China initiated a successful crewed spaceflight program while India launched Chandraayan 1, while the European Union and Japan have also planned future crewed space missions. China, Russia, and Japan have advocated crewed missions to the Moon during the 21st century, while the European Union has advocated crewed missions to both the Moon and Mars during the 20th and 21st century. First astronomical body space explorations The first telescope is said to have been invented in 1608 in the Netherlands by an eyeglass maker named Hans Lippershey, but their first recorded use in astronomy was by Galileo Galilei in 1609. In 1668 Isaac Newton built his own reflecting telescope, the first fully functional telescope of this kind, and a landmark for future developments due to its superior features over the previous Galilean telescope. First space station A string of discoveries in the Solar System (and beyond) followed, then and in the next centuries: the mountains of the Moon, the phases of Venus, the main satellites of Jupiter and Saturn, the rings of Saturn, many comets, the asteroids, the new planets Uranus and Neptune, and many more satellites. First interstellar space flight The Orbiting Astronomical Observatory 2 was the first space telescope launched 1968, but the launching of Hubble Space Telescope in 1990 set a milestone. As of 1 December 2022, there were 5,284 confirmed exoplanets discovered. The Milky Way is estimated to contain 100–400 billion stars and more than 100 billion planets. There are at least 2 trillion galaxies in the observable universe. HD1 is the most distant known object from Earth, reported as 33.4 billion light-years away. Farthest from Earth MW 18014 was a German V-2 rocket test launch that took place on 20 June 1944, at the Peenemünde Army Research Center in Peenemünde. It was the first man-made object to reach outer space, attaining an apogee of 176 kilometers, which is well above the Kármán line. It was a vertical test launch. Although the rocket reached space, it did not reach orbital velocity, and therefore returned to Earth in an impact, becoming the first sub-orbital spaceflight. Targets of exploration The first successful orbital launch was of the Soviet uncrewed Sputnik 1 (\"Satellite 1\") mission on 4 October 1957. The satellite weighed about 83\\xa0kg (183\\xa0lb), and is believed to have orbited Earth at a height of about 250\\xa0km (160\\xa0mi). It had two radio transmitters (20 and 40\\xa0MHz), which emitted \"beeps\" that could be heard by radios around the globe. Analysis of the radio signals was used to gather information about the electron density of the ionosphere, while temperature and pressure data was encoded in the duration of radio beeps. The results indicated that the satellite was not punctured by a meteoroid. Sputnik 1 was launched by an R-7 rocket. It burned up upon re-entry on 3 January 1958. The Sun The first successful human spaceflight was Vostok 1 (\"East 1\"), carrying the 27-year-old Russian cosmonaut, Yuri Gagarin, on 12 April 1961. The spacecraft completed one orbit around the globe, lasting about 1 hour and 48 minutes. Gagarin\\'s flight resonated around the world; it was a demonstration of the advanced Soviet space program and it opened an entirely new era in space exploration: human spaceflight. Mercury The first artificial object to reach another celestial body was Luna 2 reaching the Moon in 1959. The first soft landing on another celestial body was performed by Luna 9 landing on the Moon on 3 February 1966. Luna 10 became the first artificial satellite of the Moon, entering in a lunar orbit on 3 April 1966. Venus The first crewed landing on another celestial body was performed by Apollo 11 on 20 July 1969, landing on the Moon. There have been a total of six spacecraft with humans landing on the Moon starting from 1969 to the last human landing in 1972. Earth The first interplanetary flyby was the 1961 Venera 1 flyby of Venus, though the 1962 Mariner 2 was the first flyby of Venus to return data (closest approach 34,773 kilometers). Pioneer 6 was the first satellite to orbit the Sun, launched on 16 December 1965. The other planets were first flown by in 1965 for Mars by Mariner 4, 1973 for Jupiter by Pioneer 10, 1974 for Mercury by Mariner 10, 1979 for Saturn by Pioneer 11, 1986 for Uranus by Voyager 2, 1989 for Neptune by Voyager 2. In 2015, the dwarf planets Ceres and Pluto were orbited by Dawn and passed by New Horizons, respectively. This accounts for flybys of each of the eight planets in the Solar System, the Sun, the Moon, and Ceres and Pluto (two of the five recognized dwarf planets). Moon The first interplanetary surface mission to return at least limited surface data from another planet was the 1970 landing of Venera 7, which returned data to Earth for 23 minutes from Venus. In 1975 the Venera 9 was the first to return images from the surface of another planet, returning images from Venus. In 1971 the Mars 3 mission achieved the first soft landing on Mars returning data for almost 20 seconds. Later much longer duration surface missions were achieved, including over six years of Mars surface operation by Viking 1 from 1975 to 1982 and over two hours of transmission from the surface of Venus by Venera 13 in 1982, the longest ever Soviet planetary surface mission. Venus and Mars are the two planets outside of Earth on which humans have conducted surface missions with uncrewed robotic spacecraft. Mars Salyut 1 was the first space station of any kind, launched into low Earth orbit by the Soviet Union on 19 April 1971. The International Space Station is currently the largest and oldest of the 2 current fully functional space stations, inhabited continuously since the year 2000. The other, Tiangong space station built by China, is now fully crewed and operational. Phobos Voyager 1 became the first human-made object to leave the Solar System into interstellar space on 25 August 2012. The probe passed the heliopause at 121 AU to enter interstellar space. Asteroids The Apollo 13 flight passed the far side of the Moon at an altitude of 254 kilometers (158 miles; 137 nautical miles) above the lunar surface, and 400,171\\xa0km (248,655\\xa0mi) from Earth, marking the record for the farthest humans have ever traveled from Earth in 1970. Jupiter As of 26\\xa0November\\xa02022 Voyager 1 was at a distance of 159\\xa0AU (23.8\\xa0billion\\xa0km; 14.8\\xa0billion\\xa0mi) from Earth. It is the most distant human-made object from Earth. Saturn Starting in the mid-20th century probes and then human mission were sent into Earth orbit, and then on to the Moon. Also, probes were sent throughout the known Solar System, and into Solar orbit. Uncrewed spacecraft have been sent into orbit around Saturn, Jupiter, Mars, Venus, and Mercury by the 21st century, and the most distance active spacecraft, Voyager 1 and 2 traveled beyond 100 times the Earth-Sun distance. The instruments were enough though that it is thought they have left the Sun\\'s heliosphere, a sort of bubble of particles made in the Galaxy by the Sun\\'s solar wind. Uranus The Sun is a major focus of space exploration. Being above the atmosphere in particular and Earth\\'s magnetic field gives access to the solar wind and infrared and ultraviolet radiations that cannot reach Earth\\'s surface. The Sun generates most space weather, which can affect power generation and transmission systems on Earth and interfere with, and even damage, satellites and space probes. Numerous spacecraft dedicated to observing the Sun, beginning with the Apollo Telescope Mount, have been launched and still others have had solar observation as a secondary objective. Parker Solar Probe, launched in 2018, will approach the Sun to within 1/9th the orbit of Mercury. Neptune Mercury remains the least explored of the Terrestrial planets. As of May 2013, the Mariner 10 and MESSENGER missions have been the only missions that have made close observations of Mercury. MESSENGER entered orbit around Mercury in March 2011, to further investigate the observations made by Mariner 10 in 1975 (Munsell, 2006b).A third mission to Mercury, scheduled to arrive in 2025, BepiColombo is to include two probes. BepiColombo is a joint mission between Japan and the European Space Agency. MESSENGER and BepiColombo are intended to gather complementary data to help scientists understand many of the mysteries discovered by Mariner 10\\'s flybys. Pluto Flights to other planets within the Solar System are accomplished at a cost in energy, which is described by the net change in velocity of the spacecraft, or delta-v. Due to the relatively high delta-v to reach Mercury and its proximity to the Sun, it is difficult to explore and orbits around it are rather unstable. Kuiper Belt Objects Venus was the first target of interplanetary flyby and lander missions and, despite one of the most hostile surface environments in the Solar System, has had more landers sent to it (nearly all from the Soviet Union) than any other planet in the Solar System. The first flyby was the 1961\\xa0Venera 1, though the 1962\\xa0Mariner 2\\xa0was the first flyby\\xa0to successfully return data. Mariner 2 has been followed by several other flybys by multiple space agencies often as part of missions using a Venus flyby to provide a gravitational assist en route to other celestial bodies. In 1967 Venera 4 became the first probe to enter and directly examine the atmosphere of Venus. In 1970, Venera 7 became the first successful lander to reach the surface of Venus and by 1985 it had been followed by eight additional successful Soviet Venus landers which provided images and other direct surface data. Starting in 1975 with the Soviet orbiter Venera 9 some ten successful orbiter missions have been sent to Venus, including later missions which were able to map the surface of Venus using radar to pierce the obscuring atmosphere. Comets Space exploration has been used as a tool to understand Earth as a celestial object. Orbital missions can provide data for Earth that can be difficult or impossible to obtain from a purely ground-based point of reference. Deep space exploration For example, the existence of the Van Allen radiation belts was unknown until their discovery by the United States\\' first artificial satellite, Explorer 1. These belts contain radiation trapped by Earth\\'s magnetic fields, which currently renders construction of habitable space stations above 1000\\xa0km impractical.Following this early unexpected discovery, a large number of Earth observation satellites have been deployed specifically to explore Earth from a space-based perspective. These satellites have significantly contributed to the understanding of a variety of Earth-based phenomena. For instance, the hole in the ozone layer was found by an artificial satellite that was exploring Earth\\'s atmosphere, and satellites have allowed for the discovery of archeological sites or geological formations that were difficult or impossible to otherwise identify. Future of space exploration The Moon was the first celestial body to be the object of space exploration. It holds the distinctions of being the first remote celestial object to be flown by, orbited, and landed upon by spacecraft, and the only remote celestial object ever to be visited by humans. Breakthrough Starshot In 1959 the Soviets obtained the first images of the far side of the Moon, never previously visible to humans. The U.S. exploration of the Moon began with the Ranger 4 impactor in 1962. Starting in 1966 the Soviets successfully deployed a number of landers to the Moon which were able to obtain data directly from the Moon\\'s surface; just four months later, Surveyor 1 marked the debut of a successful series of U.S. landers. The Soviet uncrewed missions culminated in the Lunokhod program in the early 1970s, which included the first uncrewed rovers and also successfully brought lunar soil samples to Earth for study. This marked the first (and to date the only) automated return of extraterrestrial soil samples to Earth. Uncrewed exploration of the Moon continues with various nations periodically deploying lunar orbiters, and in 2008 the Indian Moon Impact Probe and in 2023 the Chandrayaan-3 of India became the first spacecraft to land on the lunar south pole. Asteroids Crewed exploration of the Moon began in 1968 with the Apollo 8 mission that successfully orbited the Moon, the first time any extraterrestrial object was orbited by humans. In 1969, the Apollo 11 mission marked the first time humans set foot upon another world. Crewed exploration of the Moon did not continue for long. The Apollo 17 mission in 1972 marked the sixth landing and the most recent human visit. Artemis 2 is scheduled to complete a crewed flyby of the Moon in 2025, and Artemis 3 will perform the first lunar landing since Apollo 17 with it scheduled for launch no earlier than 2026. Robotic missions are still pursued vigorously. James Webb Space Telescope The exploration of Mars has been an important part of the space exploration programs of the Soviet Union (later Russia), the United States, Europe, Japan and India. Dozens of robotic spacecraft, including orbiters, landers, and rovers, have been launched toward Mars since the 1960s. These missions were aimed at gathering data about current conditions and answering questions about the history of Mars. The questions raised by the scientific community are expected to not only give a better appreciation of the Red Planet but also yield further insight into the past, and possible future, of Earth. Artemis program The exploration of Mars has come at a considerable financial cost with roughly two-thirds of all spacecraft destined for Mars failing before completing their missions, with some failing before they even began. Such a high failure rate can be attributed to the complexity and large number of variables involved in an interplanetary journey, and has led researchers to jokingly speak of The Great Galactic Ghoul which subsists on a diet of Mars probes. This phenomenon is also informally known as the \"Mars Curse\".  In contrast to overall high failure rates in the exploration of Mars, India has become the first country to achieve success of its maiden attempt.  India\\'s Mars Orbiter Mission (MOM) is one of the least expensive interplanetary missions ever undertaken with an approximate total cost of ₹ 450 Crore (US$73 million). The first mission to Mars by any Arab country has been taken up by the United Arab Emirates. Called the Emirates Mars Mission, it was launched on 19 July 2020 and went into orbit around Mars on 9 February 2021. The uncrewed exploratory probe was named \"Hope Probe\" and was sent to Mars to study its atmosphere in detail. Rationales The Russian space mission Fobos-Grunt, which launched on 9 November 2011 experienced a failure leaving it stranded in low Earth orbit. It was to begin exploration of the Phobos and Martian circumterrestrial orbit, and study whether the moons of Mars, or at least Phobos, could be a \"trans-shipment point\" for spaceships traveling to Mars. Human nature Until the advent of space travel, objects in the asteroid belt were merely pinpricks of light in even the largest telescopes, their shapes and terrain remaining a mystery.Several asteroids have now been visited by probes, the first of which was Galileo, which flew past two: 951 Gaspra in 1991, followed by 243 Ida in 1993. Both of these lay near enough to Galileo\\'s planned trajectory to Jupiter that they could be visited at acceptable cost. The first landing on an asteroid was performed by the NEAR Shoemaker probe in 2000, following an orbital survey of the object, 433 Eros. The dwarf planet Ceres and the asteroid 4 Vesta, two of the three largest asteroids, were visited by NASA\\'s Dawn spacecraft, launched in 2007. Topics Hayabusa was a robotic spacecraft developed by the Japan Aerospace Exploration Agency to return a sample of material from the small near-Earth asteroid 25143 Itokawa to Earth for further analysis. Hayabusa was launched on 9 May 2003 and rendezvoused with Itokawa in mid-September 2005. After arriving at Itokawa, Hayabusa studied the asteroid\\'s shape, spin, topography, color, composition, density, and history. In November 2005, it landed on the asteroid twice to collect samples. The spacecraft returned to Earth on 13 June 2010. Spaceflight The exploration of Jupiter has consisted solely of a number of automated NASA spacecraft visiting the planet since 1973. A large majority of the missions have been \"flybys\", in which detailed observations are taken without the probe landing or entering orbit; such as in Pioneer and Voyager programs. The Galileo and Juno spacecraft are the only spacecraft to have entered the planet\\'s orbit. As Jupiter is believed to have only a relatively small rocky core and no real solid surface, a landing mission is precluded. Satellites Reaching Jupiter from Earth requires a delta-v of 9.2\\xa0km/s, which is comparable to the 9.7\\xa0km/s delta-v needed to reach low Earth orbit. Fortunately, gravity assists through planetary flybys can be used to reduce the energy required at launch to reach Jupiter, albeit at the cost of a significantly longer flight duration. Commercialization of space Jupiter has 95 known moons, many of which have relatively little known information about them. Alien life Saturn has been explored only through uncrewed spacecraft launched by NASA, including one mission (Cassini–Huygens) planned and executed in cooperation with other space agencies. These missions consist of flybys in 1979 by Pioneer 11, in 1980 by Voyager 1, in 1982 by Voyager 2 and an orbital mission by the Cassini spacecraft, which lasted from 2004 until 2017. Human spaceflight and habitation Saturn has at least 62 known moons, although the exact number is debatable since Saturn\\'s rings are made up of vast numbers of independently orbiting objects of varying sizes. The largest of the moons is Titan, which holds the distinction of being the only moon in the Solar System with an atmosphere denser and thicker than that of Earth.  Titan holds the distinction of being the only object in the Outer Solar System that has been explored with a lander, the Huygens probe deployed by the Cassini spacecraft. Human representation and participation The exploration of Uranus has been entirely through the Voyager 2 spacecraft, with no other visits currently planned. Given its axial tilt of 97.77°, with its polar regions exposed to sunlight or darkness for long periods, scientists were not sure what to expect at Uranus. The closest approach to Uranus occurred on 24 January 1986. Voyager 2 studied the planet\\'s unique atmosphere and magnetosphere. Voyager 2 also examined its ring system and the moons of Uranus including all five of the previously known moons, while discovering an additional ten previously unknown moons. Women Images of Uranus proved to have a very uniform appearance, with no evidence of the dramatic storms or atmospheric banding evident on Jupiter and Saturn. Great effort was required to even identify a few clouds in the images of the planet. The magnetosphere of Uranus, however, proved to be unique, being profoundly affected by the planet\\'s unusual axial tilt. In contrast to the bland appearance of Uranus itself, striking images were obtained of the Moons of Uranus, including evidence that Miranda had been unusually geologically active. Art The exploration of Neptune began with 25 August 1989 Voyager 2 flyby, the sole visit to the system as of 2024. The possibility of a Neptune Orbiter has been discussed, but no other missions have been given serious thought. See also Although the extremely uniform appearance of Uranus during Voyager 2\\'s visit in 1986 had led to expectations that Neptune would also have few visible atmospheric phenomena, the spacecraft found that Neptune had obvious banding, visible clouds, auroras, and even a conspicuous anticyclone storm system rivaled in size only by Jupiter\\'s Great Red Spot. Neptune also proved to have the fastest winds of any planet in the Solar System, measured as high as 2,100\\xa0km/h. Voyager 2 also examined Neptune\\'s ring and moon system. It discovered 900 complete rings and additional partial ring \"arcs\" around Neptune. In addition to examining Neptune\\'s three previously known moons, Voyager 2 also discovered five previously unknown moons, one of which, Proteus, proved to be the last largest moon in the system. Data from Voyager 2 supported the view that Neptune\\'s largest moon, Triton, is a captured Kuiper belt object. Robotic space exploration programs The dwarf planet Pluto presents significant challenges for spacecraft because of its great distance from Earth (requiring high velocity for reasonable trip times) and small mass (making capture into orbit very difficult at present). Voyager 1 could have visited Pluto, but controllers opted instead for a close flyby of Saturn\\'s moon Titan, resulting in a trajectory incompatible with a Pluto flyby. Voyager 2 never had a plausible trajectory for reaching Pluto. Living in space After an intense political battle, a mission to Pluto dubbed New Horizons was granted funding from the United States government in 2003. New Horizons was launched successfully on 19 January 2006. In early 2007 the craft made use of a gravity assist from Jupiter. Its closest approach to Pluto was on 14 July 2015; scientific observations of Pluto began five months prior to closest approach and continued for 16 days after the encounter. Animals in space The New Horizons mission also did a flyby of the small planetesimal Arrokoth, in the Kuiper belt, in 2019. This was its first extended mission. Humans in space Although many comets have been studied from Earth sometimes with centuries-worth of observations, only a few comets have been closely visited. In 1985, the International Cometary Explorer conducted the first comet fly-by (21P/Giacobini-Zinner) before joining the Halley Armada studying the famous comet. The Deep Impact probe smashed into 9P/Tempel to learn more about its structure and composition and the Stardust mission returned samples of another comet\\'s tail. The Philae lander successfully landed on Comet Churyumov–Gerasimenko in 2014 as part of the broader Rosetta mission. Recent and future developments Deep space exploration is the branch of astronomy, astronautics and space technology that is involved with the exploration of distant regions of outer space. Physical exploration of space is conducted both by human spaceflights (deep-space astronautics) and by robotic spacecraft. Other Some of the best candidates for future deep space engine technologies include anti-matter, nuclear power and beamed propulsion. The latter, beamed propulsion, appears to be the best candidate for deep space exploration presently available, since it uses known physics and known technology that is being developed for other purposes. References Breakthrough Starshot is a research and engineering project by the Breakthrough Initiatives to develop a proof-of-concept fleet of light sail spacecraft named StarChip, to be capable of making the journey to the Alpha Centauri star system 4.37 light-years away. It was founded in 2016 by Yuri Milner, Stephen Hawking, and Mark Zuckerberg. Further reading An article in science magazine Nature suggested the use of asteroids as a gateway for space exploration, with the ultimate destination being Mars. In order to make such an approach viable, three requirements need to be fulfilled: first, \"a thorough asteroid survey to find thousands of nearby bodies suitable for astronauts to visit\"; second, \"extending flight duration and distance capability to ever-increasing ranges out to Mars\"; and finally, \"developing better robotic vehicles and tools to enable astronauts to explore an asteroid regardless of its size, shape or spin\". Furthermore, using asteroids would provide astronauts with protection from galactic cosmic rays, with mission crews being able to land on them without great risk to radiation exposure.'"
      ]
     },
     "execution_count": 6,
     "metadata": {},
     "output_type": "execute_result"
    }
   ],
   "source": [
    "text"
   ]
  },
  {
   "cell_type": "code",
   "execution_count": 7,
   "id": "75a3a71d",
   "metadata": {},
   "outputs": [],
   "source": [
    "#Class for data cleaning\n",
    "class DataCleaning:\n",
    "    def __init__(self, text, min_length, summarizer_model, grammar_model, \n",
    "                 length_penalty, num_beams, truncation, early_stopping, skip_special_tokens):\n",
    "        self.text = text\n",
    "        self.min_length = min_length\n",
    "        self.summarizer_model = summarizer_model\n",
    "        self.grammar_model = grammar_model\n",
    "        self.length_penalty = length_penalty\n",
    "        self.num_beams = num_beams\n",
    "        self.truncation = truncation\n",
    "        self.early_stopping = early_stopping\n",
    "        self.skip_special_tokens = skip_special_tokens\n",
    "    \n",
    "    def summarize_text(self, content, max_length, tokenizer, model):\n",
    "        \"\"\"\n",
    "        This function summarizes long content into concised form using a provided model.\n",
    "        \"\"\"\n",
    "        #Preprocess Content\n",
    "        inputs = tokenizer.encode(\"summarize: \" + content, return_tensors=\"pt\", max_length=max_length, \n",
    "                                  truncation=self.truncation)\n",
    "        #Generate Summary\n",
    "        summary_ids = model.generate(inputs, max_length=max_length, min_length=self.min_length, \n",
    "                                     length_penalty=self.length_penalty, num_beams=self.num_beams, \n",
    "                                     early_stopping=self.early_stopping)\n",
    "        #Decode Summary\n",
    "        summary = tokenizer.decode(summary_ids[0], skip_special_tokens=self.skip_special_tokens)\n",
    "        return summary\n",
    "    \n",
    "    def grammar_corrector(self, content, max_length, tokenizer, model):\n",
    "        \"\"\"\n",
    "        This function corrects the grammar for a provided content.\n",
    "        \"\"\"\n",
    "        #Preprocess Content\n",
    "        input_ids = tokenizer(\"grammar: \" + content, return_tensors='pt').input_ids\n",
    "        #Generate Corrected Text\n",
    "        outputs = model.generate(input_ids,max_length=max_length, min_length=self.min_length)\n",
    "        #Decode Corrected Text\n",
    "        corrected_content = tokenizer.decode(outputs[0], skip_special_tokens=self.skip_special_tokens)\n",
    "        return corrected_content.lower().strip()\n",
    "    \n",
    "    def normalize_text(self):\n",
    "        \"\"\"\n",
    "        This function normalizes a given text and removes whitespace characters\n",
    "        \"\"\"\n",
    "        #Normalize Text\n",
    "        normalized = \" \".join([i for i in self.text.lower().split()])\n",
    "        #Split lines based on delimiter\n",
    "        lines = normalized.split(\".\")\n",
    "        return lines\n",
    "    \n",
    "    def remove_special_characters(self, content):\n",
    "        \"\"\"\n",
    "        This function removes special characters from a given text.\n",
    "        \"\"\"\n",
    "        return re.sub('[%s]' % re.escape(string.punctuation.replace('.','') +r'“'+'”'+'’'+\"'\"), '', content)\n",
    "    \n",
    "    def clean_data(self):\n",
    "        \"\"\"\n",
    "        This process preprocesses the text. It applies following transformations\n",
    "        1. Normalization\n",
    "        2. Summarization\n",
    "        3. Grammar Correction\n",
    "        4. Special Character Removal & Whitespaces\n",
    "        \"\"\"\n",
    "        output = []\n",
    "        #Normalization\n",
    "        lines = self.normalize_text()\n",
    "        #Initialize Summary Tokenizer\n",
    "        summary_tokenizer = T5Tokenizer.from_pretrained(self.summarizer_model)\n",
    "        #Initialize Summarization Model\n",
    "        summary_model = T5ForConditionalGeneration.from_pretrained(self.summarizer_model)\n",
    "        #Initialize Grammar Tokenizer\n",
    "        grammar_tokenizer = AutoTokenizer.from_pretrained(self.grammar_model)\n",
    "        #Initialize Grammar Model\n",
    "        grammar_model = AutoModelForSeq2SeqLM.from_pretrained(self.grammar_model)\n",
    "        #Loop for each line in the text\n",
    "        for item in lines:\n",
    "            max_length = ceil(len(item)/4)\n",
    "            if max_length < self.min_length:\n",
    "                max_length = self.min_length\n",
    "            #Summarization\n",
    "            summary = self.summarize_text(item, max_length, summary_tokenizer, summary_model)\n",
    "            #Grammar Correction\n",
    "            corrected_summary = self.grammar_corrector(item, max_length, grammar_tokenizer, grammar_model)\n",
    "            output.append(corrected_summary)\n",
    "        cleaned_text = \" \".join([i for i in output])\n",
    "        #Special Character Removal\n",
    "        result = self.remove_special_characters(cleaned_text)\n",
    "        return result"
   ]
  },
  {
   "cell_type": "code",
   "execution_count": 8,
   "id": "85c23f93",
   "metadata": {},
   "outputs": [
    {
     "name": "stderr",
     "output_type": "stream",
     "text": [
      "You are using the default legacy behaviour of the <class 'transformers.models.t5.tokenization_t5.T5Tokenizer'>. This is expected, and simply means that the `legacy` (previous) behavior will be used so nothing changes for you. If you want to use the new behaviour, set `legacy=False`. This should only be set if you understand what it means, and thoroughly read the reason why this was added as explained in https://github.com/huggingface/transformers/pull/24565\n",
      "Special tokens have been added in the vocabulary, make sure the associated word embeddings are fine-tuned or trained.\n"
     ]
    }
   ],
   "source": [
    "data_cleaner = DataCleaning(text=text, min_length=10, summarizer_model= \"t5-base\", \n",
    "                            grammar_model= \"addy88/t5-grammar-correction\", length_penalty=2.0,\n",
    "                            num_beams=5, truncation=True, early_stopping=True,skip_special_tokens=True)\n",
    "clean_text =  data_cleaner.clean_data()"
   ]
  },
  {
   "cell_type": "code",
   "execution_count": 9,
   "id": "0e604a8f",
   "metadata": {},
   "outputs": [
    {
     "data": {
      "text/plain": [
       "'exploration space exploration is the use of astronomy and space technology to explore outer space. while the exploration of space is currently carried out mainly by astronomers with telescopes its physical exploration is conducted both by uncrewed robotic space probes and human spaceflight. space exploration like its classical form astronomy is one of the main sources for space science. first telescopes while the observation of objects in space known as astronomy predates reliable recorded history it was the development of large and relatively efficient rockets during the midtwentieth century that allowed physical space exploration to become a reality. common rationales for exploring space include advancing scientific research national prestige uniting different nations ensuring the future survival of humanity and developing military and strategic advantages against other countries. the early era of space exploration was driven by a space race between the soviet union and the united states. a driving force of the start of space exploration was during the cold war. after the ability to create nuclear weapons the narrative of defenseoffense left land and the power to control the air became the focus. both the soviet and the u.s. s. s. s. they were fighting to prove their superiority in technology through exploring the unknown space. in fact the reason nasa was made was due to the response the launch of the first humanmade object to orbit earth the soviet unions sputnik 1 on 4 october 1957 and the first moon landing by the american apollo 11 mission on 20 july 1969 are often taken as landmarks for this initial period. the soviet space program achieved many of the first milestones including the first living being in orbit in 1957 the first human spaceflight yuri gagarin aboard vostok 1 in 1961 the first spacewalk by alexei leonov on 18 march 1965 the first automatic landing on another celestial body in 1966 and the launch of the first space station salyut 1 after the first 20 years of exploration focus shifted from oneoff flights to renewable hardware such as the space shuttle program and from competition to cooperation with the international space station iss. the first object in orbit with the substantial completion of the iss following sts133 in march 2011 plans for space exploration by the u.s s. s. s. the economy remains in flux. the economy remains a bush administration program for a return to the moon by 2020 was judged inadequately funded and unrealistic by an expert review panel reporting in 2009 and the panel concluded that the program was inadequately funded and the obama administration proposed a revision of constellation in 2010 to focus on the development of the capability for crewed missions beyond low earth orbit leo envisioning extending the operation of the iss beyond 2020 transferring the development of launch vehicles for human crews from nasa to the private sector and developing technology to enable missions beyond leo such as earth–moon l1 the moon earth–sun l2 nearearth asteroids and phobos or mars orbit in the 2000s china initiated a successful crewed spaceflight program while india launched chandraayan 1 while the european union and japan have also planned future crewed space missions. china russia and japan have advocated crewed missions to the moon during the 21st century while the european union has advocated crewed missions to both the moon and mars during the 20th and 21st century. first astronomical body space explorations the first telescope is said to have been invented in 1608 in the netherlands by an eyeglass maker named hans lippershey but their first recorded use in astronomy was by galileo galilei in 1609 and the in 1668 isaac newton built his own reflecting telescope the first fully functional telescope of this kind and a landmark for future developments due to its superior features over the previous galilean telescope. first space station a string of discoveries in the solar system and beyond followed then and in the next centuries the mountains of the moon the phases of venus the main satellites of jupiter and saturn the rings of saturn many comets the asteroids the new planets uranus and neptune and many more satellite the first interstellar space flight was the orbiting astronomical observatory 2 was the first space telescope launched 1968 but the launching of the hubble space telescope in 1990 set a milestone milestone. as of 1 december 2022 there were 5 284 confirmed exoplane the milky way is estimated to contain 100–400 billion stars and more than 100 billion planets. there are at least 2 trillion galaxies in the observable universe hd1 is the most distant known object from earth reported as 4 billion lightyears away.. the farthest from earth mw 18014 was a german v2 rocket test launch that took place on 20 june 1944 at the peenemü it was the first manmade object to reach outer space attaining an apogee of 176 kilometers which is well above the k it was a vertical test launch. it although the rocket reached space it did not reach orbital velocity and therefore returned to earth in an impact becoming the first suborbital spaceflight. the first successful orbital launch was of the soviet uncrewed sputnik 1 satellite 1 mission on 4 october 1957. the satellite weighed about 83 kg 183 lb and is believed to have orbited earth at a height of about it had two radio transmitters 20 and 40 mhz which emit beeps that could be heard by radio analysis of the radio signals was used to gather information about the electron density of the ionosphere while temperature and pressure data was encoded in the duration of radio beeps. the results indicated that the satellite was not punctured by a meteoroid sputnik 1 was launched by an it burned up upon reentry on 3 the sun the first successful human spaceflight was vostok 1 east 1 carrying the 27yearold russian cosmonaut y the spacecraft completed one orbit around the globe lasting about 1 hour and 48 minutes. gagarins flight resonated around the world it was a demonstration of the advanced soviet space program and it opened an entirely new era in space exploration human spaceflight. mercury the first artificial object to reach another celestial body was luna 2 reaching the moon in 1959. the first soft landing on another celestial body was performed by luna 9 landing on the moon on 3 february 1966. luna 10 became the first artificial satellite of the moon entering into lunar orbit on 3 april 1966. venus the first crewed landing on another celestial body was performed by apollo 11 on 20 july 1969 landing on the moon there have been a total of six spacecraft with humans landing on the moon starting from 1969 to the last human landing in 1972. earth the first interplanetary flyby was the 1961 venera 1 flyby of venus though the 1962 mariner 2 was the first flyby of venus to return data closest approach 3477 pioneer 6 was the first satellite to orbit the sun launched on 16 december 1965. the other planets were first flown by in 1965 for mars by mariner 4 1973 for jupiter by pioneer 10 1974 for mercury by mariner 10 1979 for saturn by pioneer 11 1986 for uranus by voyager 2 1989 for neptune by voyager in 2015 the dwarf planets ceres and pluto were orbited by dawn and passed by new horizons this accounts for flybys of each of the eight planets in the solar system the sun the moon and ceres and pluto two of the five recognized dwarf planets moon the first interplanetary surface mission to return at least limited surface data from another planet was the 1970 landing of venera 7 which returned data to earth for 23 minutes from venus. in 1975 the venera 9 was the first to return images from the surface of another planet returning images from venus. in 1971 the mars 3 mission achieved the first soft landing on mars returning data for almost 20 seconds. later much longer duration surface missions were achieved including over six years of mars surface operation by viking 1 from 1975 to 1982 and over two hours of transmission from the surface of venus by venera 13 in 1982 the longest ever soviet planetary surface mission. venus and mars are the two planets outside of earth on which humans have conducted surface missions with uncrewed robotic spacecraft. mars salyut 1 was the first space station of any kind launched into low earth orbit by the soviet union on 19 the international space station is currently the largest and oldest of the 2 currently fully functional space stations inhabited continuously since the year 2000. the other the tiangong space station built by china is now fully crewed and phobos voyager 1 became the first humanmade object to leave the solar system into interstellar space on 25 august 2012 and the probe passed the heliopause at 121 au to enter interstell asteroids the apollo 13 flight passed the far side of the moon at an altitude of 254 kilometers 158 miles 137 nautical miles above the lunar surface and 400171 km 248655 mi from earth marking the record for the farthest humans have ever traveled from as of 26 november 2022 the voyager 1 was at a distance of 8 billion km 14 billion km. 8 billion miles from earth. earth is it is the most distant humanmade object from earth. saturn starting in the mid20th century probes and then human missions were sent into earth orbit and then on to the moon also probes were sent throughout the known solar system and into solar orbit. uncrewed spacecraft have been sent into orbit around saturn jupiter mars venus and mercury by the 21st century and the most distance active spacecraft voyager 1 and 2 traveled beyond 100 times the earthsun distance. the instruments were enough though that it is thought they have left the suns heliosphere a sort of bubble of particles made in the galaxy by the suns solar wind. uranus the sun is a major focus of space exploration being above the atmosphere in particular and earths magnetic field gives access to solar wind and infrared and ultraviolet radiations that cannot reach earths surface. the sun generates most space weather which can affect power generation and transmission systems on earth and interfere with and even damage satellites and space probes. numerous spacecraft dedicated to observing the sun beginning with the apollo telescope mount have been launched and still others have had solar observation as a secondary objective. the parker solar probe launched in 2018 will approach the sun within 19th the orbit of mercury. pluto mercury remains the least explored of the terrestrial planets. as of may 2013 the mariner 10 and messenger missions have been the only missions that have made close observations of mercury. messenger entered orbit around mercury in march 2011 to further investigate the observations made by mariner 10 in 1975 munsell 2006b. a third mission to mercury scheduled to arrive in 2025 is to include two probes. bepicolombo is a joint mission between japan and the european space agency. messenger and picolombo are intended to gather complementary data to help scientists understand many of the mysteries discovered by mariner 10s flybys. pluto flights to other planets within the solar system are accomplished at a cost in energy which is described by the net change in velocity of the spacecraft or deltav. due to the relatively high deltav to reach mercury and its proximity to the sun it is difficult to explore and orbits around it are rather unstable. venus was the first target of interplanetary flyby and lander missions and despite one of the most hostile surface environments in the solar system has had more landers sent to it nearly all from the soviet union than any other planet in the solar system. the first flyby was the 1961 venera 1 though the 1962 mariner 2 was the first flyby to successfully return data. mariner 2 has been followed by several other flybys by multiple space agencies often as part of missions using a venus flyby to provide gravitational assist en route to other celestial bodies. in 1967 venera 4 became the first probe to enter and directly examine the atmosphere of venus. in 1970 venera 7 became the first successful lander to reach the surface of venus and by 1985 it had been followed by eight additional successful soviet venus landers which provided images and other direct surface data. starting in 1975 with the soviet orbiter venera 9 some ten successful orbiter missions have been sent to venus including later missions which were able to map the surface of venus using radar to pierce the obscuring atmosphere. comets space exploration has been used as a tool to understand earth as a celestial object orbital missions can provide data for earth that can be difficult or impossible to obtain from a purely groundbased point of reference. for example the existence of the van allen radiation belts was unknown until their discovery by the united states first artificial satellite explorer 1. these belts contain radiation trapped by earths magnetic fields which currently renders construction of habitable space stations above 1000 km impractical. following this early unexpected discovery a large number of earth observation satellites have been deployed specifically to explore earth from a spacebased perspective. these satellites have significantly contributed to the understanding of a variety of earthbased phenomena. for instance the hole in the ozone layer was found by an artificial satellite that was exploring earths atmosphere and satellites have allowed for the discovery of archeological sites or geological formations that were difficult or impossible to otherwise identify. future of space exploration the moon was the first celestial body to be the object of space exploration. it holds the distinction of being the first remote celestial object to be flown by orbited and landed upon by spacecraft and the only remote celestial object ever to be visited by humans. in 1959 the soviets obtained the first images of the far side of the moon never previously visible to humans. the united states is a great country. s. s. s. exploration of the moon began with the ranger 4 impactor in 1962. starting in 1966 the soviets successfully deployed a number of landers to the moon which were able to obtain data directly from the moons surface just four months later surveyor 1 marked the debut of a successful series of u.s s. s. s. landers are landers. landers are the soviet uncrewed missions culminated in the lunar program in the early 1970s which included the first uncrewed rovers and also successfully brought lunar soil samples to earth for study. this marked the first and to date the only automated return of extraterrestrial soil samples to earth. unmanned exploration of the moon continues with various nations periodically deploying lunar orbiters and in 2008 the indian moon impact probe and in 2023 the chandrayaan3 of india became the first spacecraft to land on the lunar south pole. asteroids crewed exploration of the moon began in 1968 with the apollo 8 mission that successfully orbited the moon the first time any extraterrestrial object was orbited by humans. in 1969 the apollo 11 mission marked the first time humans set foot on another world. exploration of the moon by crews did not continue for long. the apollo 17 mission in 1972 marked the sixth landing and the most recent human visit. artemis 2 is scheduled to complete a crewed flyby of the moon in 2025 and artemis 3 will perform the first lunar landing since apollo 17 with it scheduled for launch no earlier than 2026. robotic missions are still pursued vigorously. the exploration of mars has been an important part of the space exploration programs of the soviet union later russia the united states europe japan and india. dozens of robotic spacecraft including orbiters landers and rovers have been launched toward mars since the 1960s. these missions were aimed at gathering data about current conditions and answering questions about the history of mars. the questions raised by the scientific community are expected to not only give a better appreciation of the red planet but also yield further insight into the past and possible future of earth. the exploration of mars has come at a considerable financial cost with roughly twothirds of all spacecraft destined for mars failing before completing their missions with some failing before they even began. such a high failure rate can be attributed to the complexity and large number of variables involved in an interplanetary journey and has led researchers to joke about the great galactic ghoul which subsists on a diet of mars probes. this phenomenon is also informally known as the mars curse. in contrast to overall high failure rates in the exploration of mars india has become the first country to achieve success of its maiden attempt. indias mars orbiter mission mom is one of the least expensive interplanetary missions ever undertaken with an approximate total cost of  450 crore us73 million. the first mission to mars by any arab country has been taken up by the united arab emirates. the emirates mars mission was launched on 19 july 2020 and went into orbit around mars on 9 february 2021. the uncrewed exploratory probe was named hope probe and was sent to mars to study its atmosphere in detail. the russian space mission fobosgrunt which launched on 9 november 2011 experienced a failure leaving it stranded in low earth orbit. it was to begin exploration of the phobos and martian circumterrestrial orbit and study whether the moons of mars or at least phobos could be a transshipment point for space human nature until the advent of space travel objects in the asteroid belt were merely pinpricks of light in even the largest telescopes their shapes and terrain remaining a mystery. several asteroids have now been visited by probes the first of which was galileo which flew past two 951 gaspra in 1991 followed by both of these lay near enough to galileos planned trajectory to jupiter that they could be visited at acceptable cost. the first landing on an asteroid was performed by the near shoemaker probe in 2000 following an orbital survey of the object 433 eros the dwarf planet ceres and the asteroid 4 vesta two of the three largest asteroids were visited by nasas dawn spacecraft launched in topics hayabusa was a robotic spacecraft developed by the japan aerospace exploration agency to return a sample of material from the small nearearth asteroid 25143 itokawa to earth for further analysis. hayabusa was launched on 9 may 2003 and rendezvoused with itokawa in after arriving at itokawa hayabusa studied the asteroids shape spin topography color composition density in november 2005 it landed on the asteroid twice to collect the spacecraft returned to earth on 13 june 2010 and returned spaceflight the exploration of jupiter has consisted solely of a number of automated nasa spacecraft visiting the planet since 1973. a large majority of the missions have been flybys in which detailed observations are taken without the probe landing or entering orbit such as in pioneer and voyager programs. the galileo and juno spacecraft are the only spacecraft to have entered the planets as jupiter is believed to have only a relatively small rocky core and no real solid surface a landing mission is precluded. satellites reaching jupiter from earth require a deltav of 9 to 2 kms which is comparable to 7 kms deltav needed to reach low fortunately gravity assists through planetary flybys can be used to reduce the energy required at launch to reach jupiter albeit at the cost of a significantly longer flight duration. commercialization of space jupiter has 95 known moons many of which have relatively little known information about them. space has been explored only through uncrewed spacecraft launched by nasa including one mission cassini–huygens planned and executed in cooperation with other space agencies. these missions consist of flybys in 1979 by pioneer 11 in 1980 by voyager 1 in 1982 by voyager 2 and an orbital mission by the cassini spacecraft which lasted from 2004 until 2017 spaceflight and habitation saturn has at least 62 known moons although the exact number is debatable since saturns rings are made up of vast numbers of independently orbiting objects of varying sizes. the largest of the moons is titan which holds the distinction of being the only moon in the solar system with an atmosphere denser and thicker than that of earth. titan holds the distinction of being the only object in the outer solar system that has been explored with a lander the hydrogen probe deployed by the cassini spacecraft. human representation and participation the exploration of uranus has been entirely through the voyager 2 spacecraft with no other visits currently planned. given its axial tilt of 97 degrees 77° with its polar regions exposed to sunlight or darkness for long periods scientists were not sure what to expect at uranus. the closest approach to uranus occurred on 24 january 1986. voyager 2 studied the planets unique atmosphere and magnetosphere. voyager 2 also examined its ring system and the moons of uranus including all five previously known moons while discovering an additional ten previously unknown moons. women images of uranus proved to have a very uniform appearance with no evidence of dramatic storms or atmospheric banding evident on jupiter and saturn. great effort was required to even identify a few clouds in the images of the planet. the magnetosphere of uranus however proved to be unique being profoundly affected by the planets unusual axial in contrast to the bland appearance of uranus itself striking images were obtained of the moons of uranus including evidence that miranda had been unusually geologically active. art the exploration of neptune began with 25 august 1989 voyager 2 flyby the sole visit to the system as of 20 the possibility of a neptune orbiter has been discussed but no other missions have been given serious thought. see also although the extremely uniform appearance of uranus during voyager 2s visit in 1986 had led to expectations that neptune would also have few visible atmospheric phenomena the spacecraft found that neptune had obvious banding visible clouds auroras and even a conspicuous anticyclone storm system rivaled in size only by jupiters great red spot. neptune also proved to have the fastest winds of any planet in the solar system measured as high as 2100 kmh voyager 2 also examined neptunes it discovered 900 complete rings and additional partial rings around neptune. in addition to examining neptunes three previously known moons voyager 2 also discovered five previously unknown moons one of which proteus proved to be the last largest moon in the system. data from voyager 2 supported the view that neptunes largest moon triton is a captured space exploration programs the dwarf planet pluto presents significant challenges for spacecraft because of its great distance from earth requiring high velocity for reasonable trip times and small mass making capture into orbit very difficult at present. voyager 1 could have visited pluto but controllers opted instead for a close flyby of saturns moon titan resulting in a trajectory incompatible with a pluto voyager 2 never had a plausible trajectory for reaching pluto. living in space after an intense political battle a mission to pluto dubbed new horizons was granted funding from the united states government in 2003. new horizons was launched successfully on 19 january 2006 and was launched in early 2007 the craft made use of a gravity assist from jupiter. the closest approach to pluto was on 14 july 2015 scientific observations of pluto began five months prior to closest approach and continued for 16 days after the encounter. new horizons also did a flyby of the small planetesimal arrokoth in the kuiper belt in this was its first extended mission. it was although many comets have been studied from earth sometimes with centuriesworth of observations only a few comets have been closely visited. in 1985 the international cometary explorer conducted the first comet flyby 21pgiacobinizinner before joining the halley the deep impact probe smashed into 9ptempel to learn more about its structure and composition and the stardust mission returned samples of another comets tail. the philae lander successfully landed on comet churyumov–gerasimenko in 2014 as part recent and future developments deep space exploration is the branch of astronomy astronautics and space technology that is involved with the exploration of distant regions of outer space. physical exploration of space is conducted both by human spaceflights deep space astronautics and by robotic spacecraft. other some of the best candidates for future deep space engine technologies include antimatter nuclear power and beam propulsion. the latter beam propulsion appears to be the best candidate for deep space exploration presently available since it uses known physics and known technology that is being developed for other purposes. references breakthrough starshot is a research and engineering project by the breakthrough initiatives to develop a proofofconcept fleet of light sail spacecraft named starchip to be capable of making the journey to the alpha centauri star system 4. 37 lightyears away.. it was founded in 2016 by yuri milner stephen hawking further reading an article in science magazine nature suggested the use of asteroids as a gateway for space exploration with the ultimate destination being mars. in order to make such an approach viable three requirements need to be fulfilled first a thorough asteroid survey to find thousands of nearby bodies suitable for astronauts to visit second extending flight duration and distance capability to everincreasing ranges out to mars and finally developing better robotic vehicles and tools to enable astronauts to explore an asteroid regardless of its size shape or spin. furthermore using asteroids would provide astronauts with protection from galactic cosmic rays with mission crews being able to land on them without great risk to radiation exposure. then there is the question of whether or'"
      ]
     },
     "execution_count": 9,
     "metadata": {},
     "output_type": "execute_result"
    }
   ],
   "source": [
    "clean_text"
   ]
  },
  {
   "cell_type": "code",
   "execution_count": 10,
   "id": "457ad7d2",
   "metadata": {},
   "outputs": [],
   "source": [
    "#Class for creating & storing embeddings\n",
    "class CreateStoreEmbeddings:\n",
    "    def __init__(self, text, chunk_size, chunk_overlap, is_separator_regex, \n",
    "                 separators, length_function, embedding_model, model_kwargs,\n",
    "                 encode_kwargs, vector_db_url,prefer_grpc,collection_name):\n",
    "        self.text = text\n",
    "        self.chunk_size = chunk_size\n",
    "        self.chunk_overlap = chunk_overlap\n",
    "        self.is_separator_regex = is_separator_regex\n",
    "        self.separators = separators\n",
    "        self.length_function = length_function\n",
    "        self.embedding_model = embedding_model\n",
    "        self.model_kwargs = model_kwargs\n",
    "        self.encode_kwargs = encode_kwargs\n",
    "        self.vector_db_url = vector_db_url\n",
    "        self.prefer_grpc = prefer_grpc\n",
    "        self.collection_name = collection_name\n",
    "    \n",
    "    def create_chunks(self):\n",
    "        \"\"\"\n",
    "        This function splits the text into chunks based on specified chunk size\n",
    "        \"\"\"\n",
    "        # Initialize the text splitter with provided parameters\n",
    "        text_splitter = RecursiveCharacterTextSplitter(chunk_size=self.chunk_size, chunk_overlap=self.chunk_overlap,\n",
    "        length_function=self.length_function, is_separator_regex=self.is_separator_regex, separators = self.separators)\n",
    "        #Create chunks\n",
    "        text_docs = text_splitter.create_documents([self.text])\n",
    "        chunks = text_splitter.split_documents(text_docs)\n",
    "        return chunks\n",
    "    \n",
    "    def create_embeddings(self):\n",
    "        \"\"\"\n",
    "        This function creates embedding model\n",
    "        \"\"\"\n",
    "        # Load the embedding model \n",
    "        embeddings = HuggingFaceBgeEmbeddings(\n",
    "            model_name=self.embedding_model,\n",
    "            model_kwargs=self.model_kwargs,\n",
    "            encode_kwargs=self.encode_kwargs\n",
    "        )\n",
    "        return embeddings\n",
    "    \n",
    "    def process_embeddings(self):\n",
    "        \"\"\"\n",
    "        This function creates the vector embeddings and stores them in vector database\n",
    "        \"\"\"\n",
    "        #Get document chunks\n",
    "        chunks = self.create_chunks()\n",
    "        #Get embedding model\n",
    "        embeddings = self.create_embeddings()\n",
    "        qdrant = Qdrant.from_documents(chunks, embeddings, url=self.vector_db_url,\n",
    "        prefer_grpc=self.prefer_grpc, collection_name=self.collection_name)\n"
   ]
  },
  {
   "cell_type": "code",
   "execution_count": 11,
   "id": "f9922fbf",
   "metadata": {},
   "outputs": [],
   "source": [
    "#Get the device on system\n",
    "device = f'cuda:{cuda.current_device()}' if cuda.is_available() else 'cpu'"
   ]
  },
  {
   "cell_type": "code",
   "execution_count": 12,
   "id": "bec18775",
   "metadata": {},
   "outputs": [],
   "source": [
    "embedder = CreateStoreEmbeddings(text=clean_text, chunk_size=300, chunk_overlap=50, \n",
    "                      is_separator_regex=True, separators=[\".\"], length_function=len, \n",
    "                      embedding_model=\"BAAI/bge-large-en\", model_kwargs={'device': device},\n",
    "                      encode_kwargs={'normalize_embeddings': False}, vector_db_url=\"http://localhost:6333\",\n",
    "                      prefer_grpc=False, collection_name=\"qa_space_explr_db\")\n",
    "embedder.process_embeddings()"
   ]
  },
  {
   "cell_type": "code",
   "execution_count": 13,
   "id": "d5651c97",
   "metadata": {},
   "outputs": [],
   "source": [
    "#Class for Question Answering System\n",
    "class QuestionAnswer():\n",
    "    def __init__(self, model_id, embedding_model, model_kwargs, encode_kwargs,\n",
    "                 vector_db_url, prefer_grpc,collection_name, max_doc, \n",
    "                 temperature, prompt_template, query):\n",
    "        self.model_id = model_id\n",
    "        self.embedding_model = embedding_model\n",
    "        self.model_kwargs = model_kwargs\n",
    "        self.encode_kwargs = encode_kwargs\n",
    "        self.vector_db_url = vector_db_url\n",
    "        self.prefer_grpc = prefer_grpc\n",
    "        self.collection_name = collection_name\n",
    "        self.max_doc = max_doc\n",
    "        self.temperature = temperature\n",
    "        self.prompt_template = prompt_template\n",
    "        self.query = query\n",
    "\n",
    "    \n",
    "    def load_embedding_model(self):\n",
    "        \"\"\"\n",
    "        This functions loads the vector embedding model\n",
    "        \"\"\"\n",
    "        embeddings = HuggingFaceBgeEmbeddings(\n",
    "            model_name=self.embedding_model,\n",
    "            model_kwargs=self.model_kwargs,\n",
    "            encode_kwargs=self.encode_kwargs\n",
    "        )\n",
    "        return embeddings\n",
    "\n",
    "    \n",
    "    def get_vector_db_retriever(self):\n",
    "        \"\"\"\n",
    "        This function generates the vector store retriever\n",
    "        \"\"\"\n",
    "        embeddings = self.load_embedding_model()\n",
    "        #Initialize Qdrant client\n",
    "        client = QdrantClient(\n",
    "            url=self.vector_db_url, prefer_grpc=self.prefer_grpc\n",
    "        )\n",
    "        db = Qdrant(client=client, embeddings=embeddings, collection_name=self.collection_name)\n",
    "        #Create retriever instance\n",
    "        retriever = db.as_retriever(search_kwargs={\"k\":self.max_doc})\n",
    "        return retriever\n",
    "    \n",
    "    \n",
    "    def create_llm_pipeline(self):\n",
    "        \"\"\"\n",
    "        This function initializes model, tokenizer and query pipeline\n",
    "        \"\"\"\n",
    "        #Set quantization configuration to load large model with less GPU memory\n",
    "        bnb_config = transformers.BitsAndBytesConfig(load_in_4bit=True, bnb_4bit_quant_type='nf4',\n",
    "        bnb_4bit_use_double_quant=True, bnb_4bit_compute_dtype=bfloat16)\n",
    "        #Load model configuration\n",
    "        model_config = transformers.AutoConfig.from_pretrained(self.model_id)\n",
    "        #Instantiate the model class\n",
    "        model = transformers.AutoModelForCausalLM.from_pretrained(self.model_id, trust_remote_code=True,\n",
    "                                                                  config=model_config, quantization_config=bnb_config,\n",
    "                                                                  device_map=\"auto\")\n",
    "        #Instantiate model tokenizer\n",
    "        tokenizer = AutoTokenizer.from_pretrained(self.model_id)\n",
    "        #Instantiate query pipeline\n",
    "        query_pipeline = transformers.pipeline(\"text-generation\", model=model, tokenizer=tokenizer,\n",
    "        torch_dtype=torch.float16, device_map=\"auto\")\n",
    "        llm = HuggingFacePipeline(pipeline=query_pipeline,  model_kwargs={\"temperature\": self.temperature})\n",
    "        return llm\n",
    "\n",
    "    \n",
    "    def query_resolver(self):\n",
    "        \"\"\"\n",
    "        This function takes a user query and starts a QA chain to provide the relevant answer\n",
    "        \"\"\"\n",
    "        retriever = self.get_vector_db_retriever()\n",
    "        llm = self.create_llm_pipeline()\n",
    "        #Question answer prompt template for model\n",
    "        prompt = PromptTemplate(template=prompt_template, input_variables=['question','context'])\n",
    "        #Initialize chain\n",
    "        qa = RetrievalQA.from_chain_type(llm=llm, chain_type=\"stuff\", retriever=retriever, \n",
    "                                         return_source_documents=False, chain_type_kwargs={\"prompt\": prompt}, \n",
    "                                         verbose=True)\n",
    "        result = qa.run(self.query)\n",
    "        return result"
   ]
  },
  {
   "cell_type": "code",
   "execution_count": 14,
   "id": "bef255ca",
   "metadata": {},
   "outputs": [],
   "source": [
    "prompt_template = \"\"\"Use the following pieces of information to answer the user's question.\n",
    "If you don't know the answer, just say that you don't know, don't try to make up an answer.\n",
    "\n",
    "Context: {context}\n",
    "Question: {question}\n",
    "\n",
    "Only return the helpful answer. Answer must be detailed and well explained.\n",
    "Helpful answer:\n",
    "\"\"\""
   ]
  },
  {
   "cell_type": "code",
   "execution_count": 15,
   "id": "d9a3cd83",
   "metadata": {},
   "outputs": [],
   "source": [
    "query = \"Who was the first woman to go to space?\""
   ]
  },
  {
   "cell_type": "code",
   "execution_count": 16,
   "id": "96214644",
   "metadata": {},
   "outputs": [
    {
     "data": {
      "application/vnd.jupyter.widget-view+json": {
       "model_id": "4173cf3e77b54bacb43c2b91030a3692",
       "version_major": 2,
       "version_minor": 0
      },
      "text/plain": [
       "Loading checkpoint shards:   0%|          | 0/2 [00:00<?, ?it/s]"
      ]
     },
     "metadata": {},
     "output_type": "display_data"
    },
    {
     "name": "stdout",
     "output_type": "stream",
     "text": [
      "\n",
      "\n",
      "\u001b[1m> Entering new RetrievalQA chain...\u001b[0m\n",
      "\n",
      "\u001b[1m> Finished chain.\u001b[0m\n",
      "Inference time: 32.559 sec.\n",
      "Query: Who was the first woman to go to space?\n",
      "\n",
      "\n",
      "Result:  Use the following pieces of information to answer the user's question.\n",
      "If you don't know the answer, just say that you don't know, don't try to make up an answer.\n",
      "\n",
      "Context: ure and pressure data was encoded in the duration of radio beeps. the satellite was not punctured by a meteoroid. sputnik 1 was launched by an it burned up upon reentry on 3 the first successful human spaceflight was vostok 1 east 1 carrying the 27yearold russian cosmonaut yuri gagar the spacecraft\n",
      "\n",
      "after the first 20 years of exploration focus shifted from oneoff flights to renewable hardware. focus shifted from competition to cooperation with the international space station. iss is the first object in orbit with the substantial completion of iss following sts133 in march 2011. plans for space\n",
      "\n",
      "as landmarks. the soviet space program achieved many of the first milestones. milestones include the first living being in orbit in 1957 the first automatic landing on another celestial body in 1966 and the first space station was launched in 1971. after the first 20 years of exploration focus shif\n",
      "\n",
      "wn space. the reason nasa was made was due to the response of s the first humanmade object to orbit earth the soviet unions sputnik 1 is often taken as landmarks. the first moon landing by the american apollo 11 mission on 20 july 1969 is often taken as landmarks. the soviet space program achieved m\n",
      "\n",
      "ellar space flight was the orbiting astronomical observatory 2 was the first space telescope launched 1968. launching of the hubble space telescope in 1990 set a milestone. there were 5 284 confirmed exoplanets discovered in december. the milky way contains 100–400 billion stars and more than 100 bi\n",
      "Question: Who was the first woman to go to space?\n",
      "\n",
      "Only return the helpful answer. Answer must be detailed and well explained.\n",
      "Helpful answer:\n",
      "The first woman to go to space was Valentina Tereshkova, a Russian cosmonaut who flew aboard Vostok 6 on June 16, 1963. She spent almost three days in space, orbiting the Earth 48 times, and conducting various scientific experiments. Tereshkova's flight marked a significant milestone in the history of space exploration and paved the way for future female astronauts.\n"
     ]
    }
   ],
   "source": [
    "time_1 = time()\n",
    "resolver = QuestionAnswer(model_id=r\"Llama-2-7b\", embedding_model= \"BAAI/bge-large-en\", model_kwargs={'device': device},\n",
    "                         encode_kwargs={'normalize_embeddings': False}, vector_db_url=\"http://localhost:6333\",\n",
    "                         prefer_grpc=False, collection_name=\"space_explr_db\", max_doc=5, \n",
    "                         temperature=0.1, prompt_template=prompt_template, query=query)\n",
    "answer = resolver.query_resolver()\n",
    "time_2 = time()\n",
    "print(f\"Inference time: {round(time_2-time_1, 3)} sec.\")\n",
    "print(f\"Query: {query}\\n\")\n",
    "print(\"\\nResult: \", answer)"
   ]
  }
 ],
 "metadata": {
  "kernelspec": {
   "display_name": "genai",
   "language": "python",
   "name": "genai"
  },
  "language_info": {
   "codemirror_mode": {
    "name": "ipython",
    "version": 3
   },
   "file_extension": ".py",
   "mimetype": "text/x-python",
   "name": "python",
   "nbconvert_exporter": "python",
   "pygments_lexer": "ipython3",
   "version": "3.7.4"
  }
 },
 "nbformat": 4,
 "nbformat_minor": 5
}
